{
 "cells": [
  {
   "cell_type": "markdown",
   "metadata": {},
   "source": [
    "# Multi-Layer Perceptron Denoising with Synthetic Data\n",
    "\n",
    "In this demo, we illustrate how to use the  multi-layer VAMP (ML-VAMP) method for denoising with a prior based on a multi-layer perceptron.  To describe the problem, consider the classical linear estimation of a vector $x$ from linear measurements,\n",
    "$$\n",
    "      y = Ax + w,  \\quad w \\sim {\\mathcal N}(0,\\tau_w I),\n",
    "$$\n",
    "where $w$ is AWGN noise.  The reconstruction of depends on our knowledge of $x$.  In Bayesian settings, this is formulated via a prior $p(x)$.  For example, in the [sparse linear inverse demo](../sparse/sparse_lin_inverse.ipynb), we specified a simple sparse prior.  Here, we will show how to use the `vampyre` package to describe a more complex prior via a multi-layer perceptron (MLP).\n",
    "\n",
    "An MLP model is based on recursions of the form,\n",
    "$$\n",
    "    z_{2m+2} = \\sigma(z_{2m+1}),\\quad  z_{2m+1} = W_m z_{2m} + b_m,  \\quad m=0,...,M-1,\n",
    "$$\n",
    "where, $M$ is the number of layers and, in each layer $m$, $W_m$ is a weight matrix, $b_m$ is a bias\n",
    "term and $\\sigma(\\cdot)$ is an activation function.  In this demo, we will use the ReLU activation function\n",
    "$\\sigma(z) = \\max(0,z)$.   The data is modeled as the final output of this recursion $x=z_{2M-1}$ and the initial conditions of the recursions $z_0$ have some prior $p(z_0)$.  The intermediate variables $z_0,\\ldots,z_{2M-2}$ are called *hidden units*.  In this demo, we will build on the  [sparse probit demo](../sparse/sparse_probit.ipynb), to recover $x$ from $y$.  This demo will create a simple MLP model using randomly generated weights.  We will look at real data in the next demo."
   ]
  },
  {
   "cell_type": "markdown",
   "metadata": {},
   "source": [
    "## Importing the Package \n",
    "We first import the `vampyre` and other packages as in the [sparse linear inverse demo](sparse_lin_inverse.ipynb)."
   ]
  },
  {
   "cell_type": "code",
   "execution_count": 1,
   "metadata": {
    "collapsed": true
   },
   "outputs": [],
   "source": [
    "# Add the vampyre path to the system path\n",
    "import os\n",
    "import sys\n",
    "vp_path = os.path.abspath('../../')\n",
    "if not vp_path in sys.path:\n",
    "    sys.path.append(vp_path)\n",
    "import vampyre as vp\n",
    "\n",
    "# Load the other packages\n",
    "import numpy as np\n",
    "import matplotlib\n",
    "import matplotlib.pyplot as plt\n",
    "%matplotlib inline"
   ]
  },
  {
   "cell_type": "markdown",
   "metadata": {},
   "source": [
    "## Create a random MLP model and synthetic data\n",
    "\n",
    "In this demo, we will create a simple MLP model with random weights.  We first set the dimensions and other parameters"
   ]
  },
  {
   "cell_type": "code",
   "execution_count": 2,
   "metadata": {
    "collapsed": true
   },
   "outputs": [],
   "source": [
    "# Dimensions\n",
    "nin  = 20           # dimension of the latent variables, dim(z0)\n",
    "nhid = [100,500]    # dimension of the hidden units in the subsequent layers, dim(z_1)=dim(z_2)=100, dim(z_3)=dim(z_4)=500,\n",
    "nx = 784            # dimension of the unknown signal, dim(x)=dim(z_5)\n",
    "ny = 300            # number of measurements = dimension(y)\n",
    "\n",
    "# Other parameters\n",
    "ns = 10             # Number of samples to generate\n",
    "snr = 30            # SNR in dB\n",
    "\n",
    "# Set random seed for reproducibility\n",
    "np.random.seed(0)"
   ]
  },
  {
   "cell_type": "markdown",
   "metadata": {},
   "source": [
    "Next, we create a random matrices using the `randmlp` module which contains a `RandomMLP` class.  That class generates random weights and bias for given dimensions.  The weights and biases are selected to meet a certain sparsity target level at each layer, meaning a desired fraction of the hidden unit that are non-zero.  It is assumed that the hidden units, $h_0$, of the first layer are have $N(0,1)$ components."
   ]
  },
  {
   "cell_type": "code",
   "execution_count": 3,
   "metadata": {
    "collapsed": false
   },
   "outputs": [],
   "source": [
    "import randmlp\n",
    "\n",
    "# Sparsity target levels\n",
    "sparse_tgt = [0.4,0.4]\n",
    "\n",
    "# Generate a random network\n",
    "mlp = randmlp.RandomMLP(nin,nhid,nx,sparse_tgt=sparse_tgt)\n",
    "mlp.gen_weigths()\n",
    "\n",
    "# Extract the weights and biases\n",
    "Ws = mlp.Ws\n",
    "bs = mlp.bs"
   ]
  },
  {
   "cell_type": "markdown",
   "metadata": {},
   "source": [
    "Next, we generate random samples from the MLP.  When we run the `mlp` object it creates a list `zs=[z[0],...,z[2M+1]]`."
   ]
  },
  {
   "cell_type": "code",
   "execution_count": 4,
   "metadata": {
    "collapsed": false
   },
   "outputs": [],
   "source": [
    "# Generate random samples\n",
    "mlp.ns = ns\n",
    "zs = mlp.run()\n",
    "\n",
    "# Get the unknown vector x from the final layer of the MLP\n",
    "x = zs[-1]"
   ]
  },
  {
   "cell_type": "markdown",
   "metadata": {},
   "source": [
    "Finally, we create noisy version of the values from the final output layer.  Note that the SNR is measured on the signal after subtracting out the bias in the final layer."
   ]
  },
  {
   "cell_type": "code",
   "execution_count": 5,
   "metadata": {
    "collapsed": false
   },
   "outputs": [],
   "source": [
    "# Get bias in final layer\n",
    "nlayer = mlp.nlayers\n",
    "bout = bs[nlayer]\n",
    "\n",
    "# Generate a random sensing matrix \n",
    "A = np.random.normal(0,1,(ny,nx))/np.sqrt(nx)\n",
    "\n",
    "# Compute the noise variance.  For the noise variance we remove the bias\n",
    "y0 = A.dot(x-bout[:,None])\n",
    "wvar = 10**(-0.1*snr)*np.mean(y0**2)\n",
    "\n",
    "# Add noise\n",
    "w = np.random.normal(0,np.sqrt(wvar),(ny,ns))\n",
    "y = A.dot(x) + w"
   ]
  },
  {
   "cell_type": "markdown",
   "metadata": {},
   "source": [
    "## Model the MLP and output as a multi-layer network\n",
    "\n",
    "The MLP can be naturally modeled as a multi-layer network.  Recall that $z_0,\\ldots,z_L$ represents the intermediate variables in the MLP with the final stage is the data $z_L=x$.  We can thus write the joint density of the measured data $y$ and hidden variables $z_0,\\ldots,z_L$ as a product:\n",
    "$$\n",
    "    p(y,z_0,\\ldots,z_L) = p(z_0)p(z_1|z_0)\\cdots p(z_L|z_{L-1})p(y|z_L)\n",
    "$$\n",
    "To represent this in ML-VAMP, we create one estimator for each term on the right-hand side:\n",
    "* $p(z_0)$ is a Gaussian prior on the latent variables represented in ML-VAMP via the `GaussEst` estimator;\n",
    "* $p(z_{2m+1}|z_{2m})$ is the linear constraint $z_{2m+1}=W_m z_{2m} + b_m$ represened in ML-VAMP via the `LinEstimTwo` estimtor;\n",
    "* $p(z_{2m+2}|z_{2m+1})$ is the ReLU constraint $z_{2m+1}=\\max(0,z_{2m})$ represented in ML-VAMP via the `ReLUEstim` estimator\n",
    "* $p(y|z_L)$ is the output estimator corresponding to the linear Gaussian observations $y=Az_L + w$ represented via the `LinEstim` estimator.  "
   ]
  },
  {
   "cell_type": "code",
   "execution_count": 6,
   "metadata": {
    "collapsed": false
   },
   "outputs": [],
   "source": [
    "# Create estimator list\n",
    "est_list = []\n",
    "\n",
    "# Initial estimator\n",
    "est0 = vp.estim.GaussEst(0,1,zs[0].shape)\n",
    "est_list.append(est0)\n",
    "\n",
    "for i in range(mlp.nlayers):\n",
    "    \n",
    "    # Get shape\n",
    "    zshape0 = zs[2*i].shape\n",
    "    zshape1 = zs[2*i+1].shape\n",
    "    \n",
    "    # Add linear layer\n",
    "    Wi = mlp.Ws[i]\n",
    "    bi = mlp.bs[i]\n",
    "    Wiop = vp.trans.MatrixLT(Wi,zshape0)\n",
    "    esti = vp.estim.LinEstimTwo(Wiop,bi[:,None])\n",
    "    est_list.append(esti)\n",
    "    \n",
    "    # Add the ReLU layer\n",
    "    esti = vp.estim.ReLUEstim(zshape1)\n",
    "    est_list.append(esti)\n",
    "        \n",
    "# Add the final linear layer with measurement\n",
    "i = mlp.nlayers\n",
    "zshape0 = zs[2*i].shape\n",
    "Wi = mlp.Ws[i]\n",
    "bi = mlp.bs[i]\n",
    "Wiop = vp.trans.MatrixLT(A.dot(Wi),zshape0)\n",
    "esti = vp.estim.LinEstim(Wiop,y-A.dot(bi[:,None]),wvar)\n",
    "est_list.append(esti)"
   ]
  },
  {
   "cell_type": "markdown",
   "metadata": {},
   "source": [
    "Next, we create the list of message handlers."
   ]
  },
  {
   "cell_type": "code",
   "execution_count": 13,
   "metadata": {
    "collapsed": true
   },
   "outputs": [],
   "source": [
    "# Create the msg handlers\n",
    "nvar = 2*mlp.nlayers+1\n",
    "msg_hdl_list = []\n",
    "damp=0.95\n",
    "var_scale = 1\n",
    "for i in range(nvar):\n",
    "    msg_hdl = vp.estim.MsgHdlSimp(shape=zs[i].shape,damp=damp)\n",
    "    msg_hdl_list.append(msg_hdl)\n"
   ]
  },
  {
   "cell_type": "markdown",
   "metadata": {},
   "source": [
    "## Run the ML-VAMP solver\n",
    "\n",
    "We next create and run the ML-VAMP solver.  This is similar to the [sparse probit demo](../sparse/sparse_probit.ipynb).  "
   ]
  },
  {
   "cell_type": "code",
   "execution_count": 14,
   "metadata": {
    "collapsed": false
   },
   "outputs": [],
   "source": [
    "# Number of iterations \n",
    "nit = 50\n",
    "\n",
    "# Create the MLVamp solver\n",
    "solver = vp.solver.MLVamp(est_list,msg_hdl_list,comp_cost=True,\\\n",
    "        hist_list=['zhat','zhatvar'],nit=nit)\n",
    "        \n",
    "# Run the solver\n",
    "solver.solve()"
   ]
  },
  {
   "cell_type": "markdown",
   "metadata": {},
   "source": [
    "Extract the estimates in each iteration"
   ]
  },
  {
   "cell_type": "code",
   "execution_count": 15,
   "metadata": {
    "collapsed": true
   },
   "outputs": [],
   "source": [
    "# Extract the estimate\n",
    "zhatvar = solver.hist_dict['zhatvar']\n",
    "zhat = solver.hist_dict['zhat']"
   ]
  },
  {
   "cell_type": "markdown",
   "metadata": {},
   "source": [
    "## Measure the error per iteration\n",
    "\n",
    "We will measure the mean squared error as a function of the iteration.  As in the  [sparse probit demo](../sparse/sparse_probit.ipynb), we will measure the Debiased-MSE as computed with the following method."
   ]
  },
  {
   "cell_type": "code",
   "execution_count": 16,
   "metadata": {
    "collapsed": true
   },
   "outputs": [],
   "source": [
    "def debias_mse(zhat,ztrue):\n",
    "    tol = 1e-8\n",
    "    zcorr = np.abs(np.mean(zhat.conj()*ztrue,axis=0))**2\n",
    "    zpow = np.mean(ztrue.conj()*ztrue,axis=0)\n",
    "    zhatpow = np.mean(zhat.conj()*zhat,axis=0)\n",
    "    if np.any(zpow < tol) or np.any(zhatpow < tol):\n",
    "        dmse = 0\n",
    "    else:\n",
    "        rho = 1-zcorr/zpow/zhatpow\n",
    "        dmse = 10*np.log10(np.mean(rho))\n",
    "    return dmse"
   ]
  },
  {
   "cell_type": "markdown",
   "metadata": {},
   "source": [
    "The debiased MSE is then compared to the predicted value from ML-VAMP.  We see that we obtain a very accurate estimate and the predicted and actual MSE match well for each stage."
   ]
  },
  {
   "cell_type": "code",
   "execution_count": 17,
   "metadata": {
    "collapsed": false
   },
   "outputs": [
    {
     "name": "stdout",
     "output_type": "stream",
     "text": [
      "stage   MSE-actual   MSE-pred\n",
      "0       -38.51       -39.66\n",
      "1       -40.32       -41.53\n",
      "2       -41.28       -42.69\n",
      "3       -41.07       -42.01\n",
      "4       -39.61       -41.10\n"
     ]
    }
   ],
   "source": [
    "# Compute the powers\n",
    "zpow = np.zeros(nvar)\n",
    "for i in range(nvar):\n",
    "    zpow[i] = np.mean(zs[i]**2)\n",
    "    \n",
    "nit2 = len(zhat)\n",
    "mse_act = np.zeros((nit2,nvar))\n",
    "mse_pred = np.zeros((nit2,nvar))\n",
    "for it in range(nit2):\n",
    "    for i in range(nvar):\n",
    "        zhati = zhat[it][i]\n",
    "        zerr = np.mean(np.abs(zhati - zs[i])**2)\n",
    "        mse_act[it,i] = debias_mse(zhati,zs[i])        \n",
    "        mse_pred[it,i] = 10*np.log10(np.mean(zhatvar[it][i])/zpow[i])        \n",
    "        \n",
    "mse_actf = mse_act[-1,:]\n",
    "mse_predf = mse_pred[-1,:]\n",
    "print(\"stage   MSE-actual   MSE-pred\")\n",
    "for i in range(nvar):\n",
    "    print(\"{0:d}      {1:7.2f}      {2:7.2f}\".format(i,mse_actf[i],mse_predf[i]))"
   ]
  },
  {
   "cell_type": "markdown",
   "metadata": {},
   "source": [
    "We can also plot the results per iteration."
   ]
  },
  {
   "cell_type": "code",
   "execution_count": 18,
   "metadata": {
    "collapsed": false
   },
   "outputs": [
    {
     "data": {
      "text/plain": [
       "<matplotlib.text.Text at 0x2e0f846fef0>"
      ]
     },
     "execution_count": 18,
     "metadata": {},
     "output_type": "execute_result"
    },
    {
     "data": {
      "image/png": "[encoded data removed]",
      "text/plain": [
       "<matplotlib.figure.Figure at 0x2e0f8430c88>"
      ]
     },
     "metadata": {},
     "output_type": "display_data"
    }
   ],
   "source": [
    "t = np.array(range(nit2))\n",
    "plt.figure(figsize=(10,5))\n",
    "i = 0\n",
    "plt.plot(t, mse_act[:,i],'-o')\n",
    "plt.plot(t, mse_pred[:,i],'-s')\n",
    "plt.legend(['actual', 'pred'])\n",
    "plt.grid()\n",
    "plt.xlabel('Half iteration')\n",
    "plt.ylabel('Normalized MSE (dB)')"
   ]
  },
  {
   "cell_type": "code",
   "execution_count": null,
   "metadata": {
    "collapsed": true
   },
   "outputs": [],
   "source": []
  },
  {
   "cell_type": "code",
   "execution_count": null,
   "metadata": {
    "collapsed": true
   },
   "outputs": [],
   "source": []
  }
 ],
 "metadata": {
  "anaconda-cloud": {},
  "kernelspec": {
   "display_name": "Python [conda root]",
   "language": "python",
   "name": "conda-root-py"
  },
  "language_info": {
   "codemirror_mode": {
    "name": "ipython",
    "version": 3
   },
   "file_extension": ".py",
   "mimetype": "text/x-python",
   "name": "python",
   "nbconvert_exporter": "python",
   "pygments_lexer": "ipython3",
   "version": "3.5.3"
  }
 },
 "nbformat": 4,
 "nbformat_minor": 1
}
