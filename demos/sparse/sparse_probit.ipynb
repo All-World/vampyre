{
 "cells": [
  {
   "cell_type": "markdown",
   "metadata": {},
   "source": [
    "# Sparse Probit Demo\n",
    "\n",
    "In this demo, we illustrate how to use the `vampyre` package for a simple generalized linear model (GLM).   We build on the [sparse linear inverse demo](sparse_lin_inverse.ipynb) and consider the problem of recovering a sparse vector $z_0$ from binary measurements of the form:  \n",
    "$$\n",
    "    y = \\mbox{sign}(z_1), \\quad z_1 = Az_0 + w,\n",
    "$$\n",
    "where $w$ is Gaussian noise.  This is similar to the linear inverse problem considered in the [sparse linear inverse demo](sparse_lin_inverse.ipynb), except that we have added a nonlinear output.  In statistics, this model is known as a Generalized Linear Model or GLM.  The specific form here arises in *sparse probit classification*, where $y$ is a vector of binary class labels $y$, $A$ is a data matrix and $z_0$ is a set of coefficients in the model.  The problem is alse used in de-quantization problems in signal processing.  \n",
    "\n",
    "In this demo, you will learn to\n",
    "* Generate synthetic data for a GLM\n",
    "* Set up a GLM as a type of multi-layer network\n",
    "* Use the multi-layer VAMP method to perform the GLM estimation\n",
    "* Handle multi-column data."
   ]
  },
  {
   "cell_type": "markdown",
   "metadata": {},
   "source": [
    "## Importing the Package \n",
    "\n",
    "\n",
    "We first import the `vampyre` and other packages as in the [sparse linear inverse demo](sparse_lin_inverse.ipynb)."
   ]
  },
  {
   "cell_type": "code",
   "execution_count": 1,
   "metadata": {
    "collapsed": false
   },
   "outputs": [],
   "source": [
    "# Add the vampyre path to the system path\n",
    "import os\n",
    "import sys\n",
    "vp_path = os.path.abspath('../../')\n",
    "if not vp_path in sys.path:\n",
    "    sys.path.append(vp_path)\n",
    "import vampyre as vp\n",
    "\n",
    "# Load the other packages\n",
    "import numpy as np\n",
    "import matplotlib\n",
    "import matplotlib.pyplot as plt\n",
    "%matplotlib inline"
   ]
  },
  {
   "cell_type": "code",
   "execution_count": 2,
   "metadata": {
    "collapsed": false
   },
   "outputs": [
    {
     "data": {
      "text/plain": [
       "<module 'vampyre.estim.interval' from 'C:\\\\Users\\\\Sundeep\\\\Dropbox\\\\srangan\\\\academic\\\\GAMP\\\\programs\\\\vampyre_v2\\\\vampyre\\\\estim\\\\interval.py'>"
      ]
     },
     "execution_count": 2,
     "metadata": {},
     "output_type": "execute_result"
    }
   ],
   "source": [
    "import imp\n",
    "imp.reload(vp.estim.interval)"
   ]
  },
  {
   "cell_type": "markdown",
   "metadata": {},
   "source": [
    "## Generating Synthetic Data\n",
    "\n",
    "We next generate synthetic data.  In this case, we will use multi-column data.  First, we set the dimensions."
   ]
  },
  {
   "cell_type": "code",
   "execution_count": 3,
   "metadata": {
    "collapsed": true
   },
   "outputs": [],
   "source": [
    "# Parameters\n",
    "nz0 = 512   # number of components per column of z0\n",
    "nz1 = 4096  # number of components per column of z1\n",
    "ncol = 10   # number of columns\n",
    "\n",
    "# Compute the shapes\n",
    "zshape0 = (nz0,ncol)   # Shape of z0 matrix\n",
    "zshape1 = (nz1,ncol)   # Shape of z1 matrix\n",
    "Ashape = (nz1,nz0)   # Shape of A matrix"
   ]
  },
  {
   "cell_type": "markdown",
   "metadata": {},
   "source": [
    "Next, simliar to the [sparse linear inverse demo](sparse_lin_inverse.ipynb), we create Bernoull-Gaussian data.  "
   ]
  },
  {
   "cell_type": "code",
   "execution_count": 4,
   "metadata": {
    "collapsed": true
   },
   "outputs": [],
   "source": [
    "# Paramaeters\n",
    "sparse_rat = 0.1   # sparsity ratio\n",
    "zmean_act = 0      # mean for the active components\n",
    "zvar_act = 1       # variance for the active components\n",
    "snr = 30           # SNR in dB\n",
    "\n",
    "# Generate the random input\n",
    "z0 = np.random.normal(zmean_act, np.sqrt(zvar_act), zshape0)\n",
    "u = np.random.uniform(0, 1, zshape0) < sparse_rat\n",
    "z0 = z0*u\n",
    "\n",
    "# Normalize z0 to the average value.  The probit estimation generally has a significant\n",
    "# error in the overall scaling of z0, so this removes this error.\n",
    "zpowtgt = zvar_act*sparse_rat\n",
    "zpow = np.mean(z0**2,axis=0)\n",
    "zpow = zpow[None,:]\n",
    "z0 = z0*np.sqrt(zpowtgt/zpow)"
   ]
  },
  {
   "cell_type": "markdown",
   "metadata": {},
   "source": [
    "Now, we create a random transform $A$ and output $z_1 = Az_0 + w$."
   ]
  },
  {
   "cell_type": "code",
   "execution_count": 5,
   "metadata": {
    "collapsed": false
   },
   "outputs": [],
   "source": [
    "# Random transform\n",
    "b = np.zeros(zshape1)\n",
    "A = np.random.normal(0, 1/np.sqrt(nz0), Ashape)\n",
    "Az0 = A.dot(z0)\n",
    "\n",
    "# Add noise\n",
    "wvar = np.mean(np.abs(Az0)**2)*np.power(10, -0.1*snr)\n",
    "z1 = Az0 + np.random.normal(0,np.sqrt(wvar), zshape1)\n",
    "\n",
    "# Quantize\n",
    "thresh = 0\n",
    "y = (z1 > thresh)"
   ]
  },
  {
   "cell_type": "markdown",
   "metadata": {},
   "source": [
    "## Representing the GLM as a Multi-Layer Network\n",
    "\n",
    "In the `vampyre` package, we represent the GLM as a special case of *multi-layer* network.  Specifically, the joint density of the output $y$ and intermediate variables $z_0$ and $z_1$ has a factorizable structure as:\n",
    "$$\n",
    "    p(z_0,z_1,y) = p(z_0)p(z_1|z_0)p(y|z_1).\n",
    "$$\n",
    "We represent each of the three terms in the factorization with an estimator:\n",
    "* $p(z_0)$:  This is the BG prior on $z_0$ and will be represented by the estimator `est_in`.\n",
    "* $p(z_1|z_0)$:  This is the conditional density representing the linear mapping $z_1 = Az_0 + w$ and will be represented by the estimator `est_trans`.\n",
    "* $p(y|z_1)$:  This is the output from the hard-thresholding, $y= \\mbox{sign}(z_1)$ and is represented by the estimator `est_out`."
   ]
  },
  {
   "cell_type": "code",
   "execution_count": 6,
   "metadata": {
    "collapsed": false
   },
   "outputs": [],
   "source": [
    "# Create estimator for the input prior\n",
    "map_est = False\n",
    "est0_gauss = vp.estim.GaussEst(zmean_act,zvar_act,zshape0,map_est=map_est)\n",
    "est0_dis = vp.estim.DiscreteEst(0,1,zshape0)\n",
    "est_in = vp.estim.MixEst([est0_gauss,est0_dis],[sparse_rat,1-sparse_rat])\n",
    "\n",
    "# Estimator for the output\n",
    "est_out = vp.estim.HardThreshEst(y,zshape1,thresh=thresh)\n",
    "\n",
    "# Estimtor for the linear transform\n",
    "Aop = vp.trans.MatrixLT(A,zshape0)\n",
    "est_lin = vp.estim.LinEstimTwo(Aop,b,wvar)\n",
    "\n",
    "# Put all estimators in a list\n",
    "est_list = [est_in,est_lin,est_out]\n",
    "    "
   ]
  },
  {
   "cell_type": "markdown",
   "metadata": {},
   "source": [
    "We next create a list of message handlers, one for each of the two unknown variables, `z0` and `z1`.  Again, we will just use the simple message handlers."
   ]
  },
  {
   "cell_type": "code",
   "execution_count": 7,
   "metadata": {
    "collapsed": false
   },
   "outputs": [],
   "source": [
    "# Create the message handlers\n",
    "damp=0.95\n",
    "msg_hdl0 = vp.estim.MsgHdlSimp(map_est=map_est, shape=zshape0,damp=damp) \n",
    "msg_hdl1 = vp.estim.MsgHdlSimp(map_est=map_est, shape=zshape1,damp=damp) \n",
    "\n",
    "# Put the handlers in a list\n",
    "msg_hdl_list  = [msg_hdl0,msg_hdl1]"
   ]
  },
  {
   "cell_type": "markdown",
   "metadata": {},
   "source": [
    "## Running the Multi-Layer VAMP Solver\n",
    "\n",
    "Having described the input and output estimators and the variance handler, we can now construct a ML-VAMP solver.   The construtor takes the list of estimators, `est_list`, list of message handlers, `msg_hdl_list`.  Also, similar to VAMP, the solver takes a history list `hist_list` and number of iterations `nit`."
   ]
  },
  {
   "cell_type": "code",
   "execution_count": 8,
   "metadata": {
    "collapsed": false,
    "scrolled": true
   },
   "outputs": [],
   "source": [
    "nit = 10  # number of iterations\n",
    "solver = solver = vp.solver.MLVamp(est_list,msg_hdl_list,comp_cost=True,\\\n",
    "        hist_list=['zhat','zhatvar'],nit=nit)"
   ]
  },
  {
   "cell_type": "markdown",
   "metadata": {},
   "source": [
    "We now run the solver by calling the `solve()` method.  For a small problem like this, this should be close to instantaneous.  "
   ]
  },
  {
   "cell_type": "code",
   "execution_count": 10,
   "metadata": {
    "collapsed": false,
    "scrolled": true
   },
   "outputs": [],
   "source": [
    "solver.solve()"
   ]
  },
  {
   "cell_type": "markdown",
   "metadata": {},
   "source": [
    "The VAMP solver estimate is the field `zhat`.  Since there are two variables, `zhat` is a list. We extract the estimate `zhat0=zhat[0]` for `z0`.  Then, we plot the first column (`icol=0`) of the true data and estimate."
   ]
  },
  {
   "cell_type": "code",
   "execution_count": 20,
   "metadata": {
    "collapsed": false
   },
   "outputs": [
    {
     "data": {
      "text/plain": [
       "[0, 512, -3, 3]"
      ]
     },
     "execution_count": 20,
     "metadata": {},
     "output_type": "execute_result"
    },
    {
     "data": {
      "image/png": "[encoded data removed]",
      "text/plain": [
       "<matplotlib.figure.Figure at 0x1f57598bba8>"
      ]
     },
     "metadata": {},
     "output_type": "display_data"
    }
   ],
   "source": [
    "zhat = solver.zhat\n",
    "zhat0 = zhat[0]\n",
    "icol = 0   # column to plot\n",
    "t = np.array(range(nz0))\n",
    "plt.subplot(1,nvar,i+1)\n",
    "plt.plot(t,z0[:,icol])\n",
    "plt.plot(t,zhat0[:,icol])\n",
    "plt.axis([0,nz0,-3,3])"
   ]
  },
  {
   "cell_type": "markdown",
   "metadata": {},
   "source": [
    "We can also measure the normalized MSE across all the columns."
   ]
  },
  {
   "cell_type": "code",
   "execution_count": 21,
   "metadata": {
    "collapsed": false
   },
   "outputs": [
    {
     "name": "stdout",
     "output_type": "stream",
     "text": [
      "z0 MSE:  -30.30\n",
      "z1 MSE:  -27.32\n"
     ]
    }
   ],
   "source": [
    "ztrue = [z0,z1]\n",
    "zhat = solver.zhat\n",
    "nvar = len(ztrue)\n",
    "mse = np.zeros(nvar)\n",
    "for i in range(nvar):\n",
    "    zhati = zhat[i]\n",
    "    ztruei = ztrue[i]\n",
    "    zerr = np.mean(np.abs(zhati-ztruei)**2)\n",
    "    zpow = np.mean(np.abs(ztruei)**2)\n",
    "    mse[i] = 10*np.log10(zerr/zpow)\n",
    "    print(\"z{0:d} MSE: {1:7.2f}\".format(i, mse[i]))"
   ]
  },
  {
   "cell_type": "markdown",
   "metadata": {},
   "source": [
    "Finally, we can plot the actual and predicted MSE as a function of the iteration number.  When `solver` was contructed, we passed an argument `hist_list=['zhat', 'zhatvar']`.  This indicated to store the value of the estimate `zhat` and predicted error variance `zhatvar` with each iteration.  We can recover these values from `solver.hist_dict`, the history dictionary.   We then plot the predicted and actual MSE for each of the two variables.  We see that the two match well.  Also, the iterations are indexed as \"half-iterations\" since each iteration takes two passes.\n",
    "\n",
    "Note that in the multi-column data, the variance at each iteration, `zhatvari`, is a vector with one predicted variance per column.  The MLVAMP method can be adjusted to average the variance over all the columns, but this generally leads to poorer or even unstable performance."
   ]
  },
  {
   "cell_type": "code",
   "execution_count": 35,
   "metadata": {
    "collapsed": false
   },
   "outputs": [
    {
     "data": {
      "image/png": "[encoded data removed]",
      "text/plain": [
       "<matplotlib.figure.Figure at 0x1f575813f98>"
      ]
     },
     "metadata": {},
     "output_type": "display_data"
    }
   ],
   "source": [
    "# Compute the MSE as a function of the iteration\n",
    "zhat_hist = solver.hist_dict['zhat']\n",
    "zvar_hist = solver.hist_dict['zhatvar']\n",
    "nit = len(zhat_hist)\n",
    "mse_act = np.zeros((nit,nvar))\n",
    "mse_pred = np.zeros((nit,nvar))\n",
    "for ivar in range(nvar):\n",
    "    zpowi = np.mean(np.abs(ztrue[ivar])**2)\n",
    "    for it in range(nit):\n",
    "        zhati = zhat_hist[it][ivar]\n",
    "        zhatvari = zvar_hist[it][ivar]\n",
    "        zerr_act = np.mean(np.abs(zhati-ztrue[ivar])**2)\n",
    "        zerr_pred = np.mean(zhatvari)\n",
    "\n",
    "        mse_act[it,ivar] = 10*np.log10(zerr_act/zpowi)\n",
    "        mse_pred[it,ivar] = 10*np.log10(zerr_pred/zpowi)\n",
    "    \n",
    "for ivar in range(nvar):\n",
    "    plt.subplot(1,nvar,ivar+1)\n",
    "    plt.plot(range(nit), mse_act[:,ivar], 'o-', linewidth=2)\n",
    "    plt.plot(range(nit), mse_pred[:,ivar], 's', linewidth=1)\n",
    "    plt.xlabel('Half iteration')\n",
    "    if (ivar == 0):\n",
    "        plt.ylabel('Normalized MSE (dB)')\n",
    "    plt.legend(['Actual', 'Predicted'])\n",
    "    plt.title(\"z{0:d}\".format(ivar))\n",
    "    plt.grid()\n",
    "    "
   ]
  },
  {
   "cell_type": "code",
   "execution_count": null,
   "metadata": {
    "collapsed": true
   },
   "outputs": [],
   "source": []
  },
  {
   "cell_type": "code",
   "execution_count": null,
   "metadata": {
    "collapsed": false
   },
   "outputs": [],
   "source": []
  },
  {
   "cell_type": "code",
   "execution_count": null,
   "metadata": {
    "collapsed": false
   },
   "outputs": [],
   "source": []
  },
  {
   "cell_type": "code",
   "execution_count": null,
   "metadata": {
    "collapsed": false
   },
   "outputs": [],
   "source": []
  },
  {
   "cell_type": "code",
   "execution_count": null,
   "metadata": {
    "collapsed": true
   },
   "outputs": [],
   "source": []
  }
 ],
 "metadata": {
  "anaconda-cloud": {},
  "kernelspec": {
   "display_name": "Python [conda root]",
   "language": "python",
   "name": "conda-root-py"
  },
  "language_info": {
   "codemirror_mode": {
    "name": "ipython",
    "version": 3
   },
   "file_extension": ".py",
   "mimetype": "text/x-python",
   "name": "python",
   "nbconvert_exporter": "python",
   "pygments_lexer": "ipython3",
   "version": "3.5.2"
  }
 },
 "nbformat": 4,
 "nbformat_minor": 1
}
